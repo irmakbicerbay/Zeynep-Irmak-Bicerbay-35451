{
  "cells": [
    {
      "cell_type": "markdown",
      "id": "403ab632-161e-4942-8829-c8c86a1db2bf",
      "metadata": {},
      "source": [
        "### what is the benefit of using classes"
      ]
    },
    {
      "cell_type": "markdown",
      "id": "13f3e7df-0419-4cc6-9580-2e87ecb10544",
      "metadata": {},
      "source": [
        "Using classes in Python helps us keep our code more organized.\n",
        "We can put related data and functions together in one place.\n",
        "It also makes it easier to reuse code and create many similar objects (like many players in a game).\n",
        "Classes are useful when our program gets bigger and we want to keep things clean and easy to understand."
      ]
    },
    {
      "cell_type": "markdown",
      "id": "b63f951a-e647-4909-a137-c5e65cebbda6",
      "metadata": {},
      "source": [
        "### How is a class different than a dictionary?"
      ]
    },
    {
      "cell_type": "markdown",
      "id": "cf9e2bd0",
      "metadata": {},
      "source": [
        "A dictionary only holds data using keys.\n",
        "But a class can hold both data and functions (called methods).\n",
        "Also, we can make many objects from a class, each with its own data.\n",
        "Classes are better when we need structure and actions together."
      ]
    },
    {
      "cell_type": "markdown",
      "id": "4088a7c4-c9e3-4183-9e1c-f70a7d29fdf7",
      "metadata": {},
      "source": [
        "### How to create the simplest class ever?"
      ]
    },
    {
      "cell_type": "code",
      "execution_count": null,
      "id": "630bb01d-8fd2-4523-a1a6-8cd8e7967d5e",
      "metadata": {
        "trusted": true
      },
      "outputs": [],
      "source": [
        "class MyClass:\n",
        "    pass\n",
        "\n",
        "obj = MyClass()"
      ]
    },
    {
      "cell_type": "markdown",
      "id": "3d627b2f-1381-4806-8497-62021047e189",
      "metadata": {},
      "source": [
        "### How to create the simplest object ever?"
      ]
    },
    {
      "cell_type": "code",
      "execution_count": null,
      "id": "8e420290-ead7-402e-91f5-dae5fd0824db",
      "metadata": {
        "trusted": true
      },
      "outputs": [],
      "source": [
        "obj = MyClass()"
      ]
    },
    {
      "cell_type": "markdown",
      "id": "09f3a0ab-bf77-46ea-a84c-b2068029a14b",
      "metadata": {},
      "source": [
        "### How to create a class with one attribute?"
      ]
    },
    {
      "cell_type": "code",
      "execution_count": null,
      "id": "a11d28ad-31bb-41ee-8002-6a1cfba75878",
      "metadata": {
        "trusted": true
      },
      "outputs": [],
      "source": [
        "class Car:\n",
        "    def __init__(self, brand):\n",
        "        self.brand = brand"
      ]
    },
    {
      "cell_type": "code",
      "execution_count": null,
      "id": "6313b625-0e8b-4503-9803-84158ccacf0d",
      "metadata": {
        "trusted": true
      },
      "outputs": [
        {
          "name": "stdout",
          "output_type": "stream",
          "text": [
            "audi\n"
          ]
        }
      ],
      "source": [
        "my_car = Car(\"audi\")\n",
        "print(my_car.brand) "
      ]
    },
    {
      "cell_type": "code",
      "execution_count": null,
      "id": "63b91c27-910f-42c3-b0a0-cd5ac5c52484",
      "metadata": {
        "trusted": true
      },
      "outputs": [],
      "source": [
        "### A class with one method"
      ]
    }
  ],
  "metadata": {
    "kernelspec": {
      "display_name": "Python (Pyodide)",
      "language": "python",
      "name": "python"
    },
    "language_info": {
      "codemirror_mode": {
        "name": "python",
        "version": 3
      },
      "file_extension": ".py",
      "mimetype": "text/x-python",
      "name": "python",
      "nbconvert_exporter": "python",
      "pygments_lexer": "ipython3",
      "version": "3.8"
    }
  },
  "nbformat": 4,
  "nbformat_minor": 5
}
