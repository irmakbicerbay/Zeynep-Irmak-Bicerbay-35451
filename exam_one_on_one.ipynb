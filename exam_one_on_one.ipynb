{
 "cells": [
  {
   "cell_type": "code",
   "execution_count": 8,
   "id": "03315181",
   "metadata": {},
   "outputs": [
    {
     "name": "stdout",
     "output_type": "stream",
     "text": [
      "Irmak\n",
      "19\n",
      "<class 'int'>\n",
      "Turkey\n",
      "Poland\n",
      "Germany\n",
      "this is my country\n",
      "Turkey\n",
      "this is my country\n",
      "Poland\n",
      "Germany\n"
     ]
    }
   ],
   "source": [
    "print(\"Irmak\")\n",
    "\n",
    "x = 19\n",
    "print(x)\n",
    "print(type(x))\n",
    "\n",
    "countries = [\"Turkey\",\"Poland\",\"Germany\"]\n",
    "for c in countries:\n",
    "    print(c)\n",
    "\n",
    "country = \"Turkey\"\n",
    "if country == \"Turkey\":\n",
    "    print(\"this is my country\")\n",
    "\n",
    "for c in countries:\n",
    "    print(c)\n",
    "    if c == \"Turkey\":\n",
    "     print(\"this is my country\")"
   ]
  }
 ],
 "metadata": {
  "kernelspec": {
   "display_name": "Python 3",
   "language": "python",
   "name": "python3"
  },
  "language_info": {
   "codemirror_mode": {
    "name": "ipython",
    "version": 3
   },
   "file_extension": ".py",
   "mimetype": "text/x-python",
   "name": "python",
   "nbconvert_exporter": "python",
   "pygments_lexer": "ipython3",
   "version": "3.12.1"
  }
 },
 "nbformat": 4,
 "nbformat_minor": 5
}
