{
 "cells": [
  {
   "cell_type": "markdown",
   "id": "66604f28",
   "metadata": {},
   "source": [
    "## Method without arguments"
   ]
  },
  {
   "cell_type": "code",
   "execution_count": 52,
   "id": "0c07bce2",
   "metadata": {},
   "outputs": [
    {
     "name": "stdout",
     "output_type": "stream",
     "text": [
      "Sound\n"
     ]
    }
   ],
   "source": [
    "class MyAnimal:\n",
    "    def make_sound(self):\n",
    "        print(\"Sound\")\n",
    "\n",
    "my_animal1 = MyAnimal()\n",
    "my_animal1.make_sound()\n"
   ]
  },
  {
   "cell_type": "markdown",
   "id": "331d82f2",
   "metadata": {},
   "source": [
    "## Method with arguments"
   ]
  },
  {
   "cell_type": "code",
   "execution_count": 53,
   "id": "cf69ac4f",
   "metadata": {},
   "outputs": [],
   "source": [
    "class MyAnimal:\n",
    "    def make_sound(self, name):\n",
    "        print('Sound from', name)\n"
   ]
  },
  {
   "cell_type": "code",
   "execution_count": 54,
   "id": "3a140d5d",
   "metadata": {},
   "outputs": [
    {
     "name": "stdout",
     "output_type": "stream",
     "text": [
      "Sound from Havhav\n"
     ]
    }
   ],
   "source": [
    "my_animal2 = MyAnimal()\n",
    "my_animal2.make_sound('Havhav')"
   ]
  },
  {
   "cell_type": "markdown",
   "id": "c8f24a6b",
   "metadata": {},
   "source": [
    "## Function without arguments"
   ]
  },
  {
   "cell_type": "code",
   "execution_count": 55,
   "id": "497de890",
   "metadata": {},
   "outputs": [],
   "source": [
    "def make_sound():\n",
    "    print('Sound')"
   ]
  },
  {
   "cell_type": "markdown",
   "id": "c834f0af",
   "metadata": {},
   "source": [
    "## How to call the function"
   ]
  },
  {
   "cell_type": "code",
   "execution_count": 56,
   "id": "544be2e0",
   "metadata": {},
   "outputs": [
    {
     "name": "stdout",
     "output_type": "stream",
     "text": [
      "Sound\n"
     ]
    }
   ],
   "source": [
    "make_sound()"
   ]
  },
  {
   "cell_type": "markdown",
   "id": "c5e55116",
   "metadata": {},
   "source": [
    "## Function with arguments"
   ]
  },
  {
   "cell_type": "code",
   "execution_count": 57,
   "id": "d43a8abd",
   "metadata": {},
   "outputs": [],
   "source": [
    "def make_sound(name):\n",
    "    print('Sound from', name)"
   ]
  },
  {
   "cell_type": "code",
   "execution_count": 58,
   "id": "652d2e0a",
   "metadata": {},
   "outputs": [
    {
     "name": "stdout",
     "output_type": "stream",
     "text": [
      "Sound from Havhav\n"
     ]
    }
   ],
   "source": [
    "make_sound('Havhav')"
   ]
  }
 ],
 "metadata": {
  "kernelspec": {
   "display_name": "Python 3",
   "language": "python",
   "name": "python3"
  },
  "language_info": {
   "codemirror_mode": {
    "name": "ipython",
    "version": 3
   },
   "file_extension": ".py",
   "mimetype": "text/x-python",
   "name": "python",
   "nbconvert_exporter": "python",
   "pygments_lexer": "ipython3",
   "version": "3.12.1"
  }
 },
 "nbformat": 4,
 "nbformat_minor": 5
}
