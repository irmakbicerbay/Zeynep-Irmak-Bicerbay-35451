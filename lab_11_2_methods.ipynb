{
 "cells": [
  {
   "cell_type": "code",
   "execution_count": 5,
   "id": "95935908",
   "metadata": {},
   "outputs": [],
   "source": [
    "class Student:\n",
    "    def hello(self):\n",
    "        print(\"Hello! I'm a student.\")"
   ]
  },
  {
   "cell_type": "code",
   "execution_count": 6,
   "id": "6a235533",
   "metadata": {},
   "outputs": [
    {
     "name": "stdout",
     "output_type": "stream",
     "text": [
      "Hello! I'm a student.\n"
     ]
    }
   ],
   "source": [
    "s1 = Student()\n",
    "s1.hello()"
   ]
  },
  {
   "cell_type": "code",
   "execution_count": 7,
   "id": "196420d9",
   "metadata": {},
   "outputs": [],
   "source": [
    "class Student:\n",
    "    def __init__(self, name, index_number):\n",
    "        self.name = name\n",
    "        self.index_number = index_number\n",
    "\n",
    "    def hello(self):\n",
    "        print(f\"Hello, I am {self.name} my index number is {self.index_number}\")\n"
   ]
  },
  {
   "cell_type": "code",
   "execution_count": 8,
   "id": "7b8170b9",
   "metadata": {},
   "outputs": [
    {
     "name": "stdout",
     "output_type": "stream",
     "text": [
      "Hello, I am Zeynep Irmak Bicerbay my index number is 35451\n"
     ]
    }
   ],
   "source": [
    "student1 = Student(\"Zeynep Irmak Bicerbay\", 35451)\n",
    "student1.hello()\n"
   ]
  }
 ],
 "metadata": {
  "kernelspec": {
   "display_name": "Python 3",
   "language": "python",
   "name": "python3"
  },
  "language_info": {
   "codemirror_mode": {
    "name": "ipython",
    "version": 3
   },
   "file_extension": ".py",
   "mimetype": "text/x-python",
   "name": "python",
   "nbconvert_exporter": "python",
   "pygments_lexer": "ipython3",
   "version": "3.12.1"
  }
 },
 "nbformat": 4,
 "nbformat_minor": 5
}
