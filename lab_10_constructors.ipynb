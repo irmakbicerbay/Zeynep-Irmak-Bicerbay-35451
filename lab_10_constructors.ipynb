{
 "cells": [
  {
   "cell_type": "code",
   "execution_count": 17,
   "metadata": {},
   "outputs": [
    {
     "name": "stdout",
     "output_type": "stream",
     "text": [
      "An animal has been created.\n",
      "An animal has been created.\n",
      "An animal has been created.\n"
     ]
    }
   ],
   "source": [
    "class Animal:\n",
    "    def __init__(self):\n",
    "        print(\"An animal has been created.\")\n",
    "\n",
    "cat = Animal()\n",
    "bird = Animal()\n",
    "snake = Animal()"
   ]
  },
  {
   "cell_type": "code",
   "execution_count": 18,
   "id": "7a982541",
   "metadata": {},
   "outputs": [],
   "source": [
    "\n",
    "class Car:\n",
    "    def __init__(self, brand, model):\n",
    "        self.brand = brand\n",
    "        self.model = model\n",
    "       \n",
    "\n",
    "car1 = Car(\"Audi\", \"a4\")\n",
    "car2 = Car(\"Tesla\", \"Model y\")\n",
    "car3 = Car(\"BMW\", \"f 30\")\n"
   ]
  },
  {
   "cell_type": "markdown",
   "id": "aa0fa136",
   "metadata": {},
   "source": [
    "## Task for extra point - complex constructor"
   ]
  },
  {
   "cell_type": "code",
   "execution_count": 19,
   "id": "02821507",
   "metadata": {},
   "outputs": [],
   "source": [
    "\n",
    "class House:\n",
    "    def __init__(self, location, floors, furnitures):\n",
    "        self.location = location\n",
    "        self.floors = floors\n",
    "        self.furnitures = furnitures\n",
    "        \n",
    "\n",
    "\n",
    "house1 = House(\n",
    "    location={'country': 'Poland', 'city': 'Warsaw', 'street': 'Tytoniowa 01'},\n",
    "    floors=4,\n",
    "    furnitures=['table', 'sofa', 'bed']\n",
    ")\n",
    "\n",
    "house2 = House(\n",
    "    location={'country': 'Turkey', 'city': 'Izmir', 'street': 'Yenikale'},\n",
    "    floors=2,\n",
    "    furnitures=['chair', 'fridge', 'wardrobe']\n",
    ")\n"
   ]
  }
 ],
 "metadata": {
  "kernelspec": {
   "display_name": "Python 3",
   "language": "python",
   "name": "python3"
  },
  "language_info": {
   "codemirror_mode": {
    "name": "ipython",
    "version": 3
   },
   "file_extension": ".py",
   "mimetype": "text/x-python",
   "name": "python",
   "nbconvert_exporter": "python",
   "pygments_lexer": "ipython3",
   "version": "3.12.1"
  }
 },
 "nbformat": 4,
 "nbformat_minor": 5
}
