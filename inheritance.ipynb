{
 "cells": [
  {
   "cell_type": "markdown",
   "id": "ee5540cf",
   "metadata": {},
   "source": [
    "### A parent class"
   ]
  },
  {
   "cell_type": "code",
   "execution_count": 38,
   "id": "edd9d171",
   "metadata": {},
   "outputs": [],
   "source": [
    "\n",
    "class Animal:\n",
    "    def give_sound(self, sound):\n",
    "        print(sound)"
   ]
  },
  {
   "cell_type": "markdown",
   "id": "11e20824",
   "metadata": {},
   "source": [
    "### Child class"
   ]
  },
  {
   "cell_type": "code",
   "execution_count": 39,
   "id": "9f740a4e",
   "metadata": {},
   "outputs": [],
   "source": [
    "class Cat(Animal):\n",
    "    def meow(self):\n",
    "        self.give_sound('meow')"
   ]
  },
  {
   "cell_type": "markdown",
   "id": "1092ba99",
   "metadata": {},
   "source": [
    "### Creating an object of the Cat class"
   ]
  },
  {
   "cell_type": "code",
   "execution_count": 40,
   "id": "a48671e1",
   "metadata": {},
   "outputs": [
    {
     "name": "stdout",
     "output_type": "stream",
     "text": [
      "meow\n"
     ]
    }
   ],
   "source": [
    "my_cat = Cat()\n",
    "my_cat.meow()"
   ]
  },
  {
   "cell_type": "markdown",
   "id": "4fb40d45",
   "metadata": {},
   "source": [
    "### A parent class"
   ]
  },
  {
   "cell_type": "code",
   "execution_count": 41,
   "id": "a9237de9",
   "metadata": {},
   "outputs": [],
   "source": [
    "class Person:\n",
    "    def __init__(self, first_name, last_name):\n",
    "        self.first_name = first_name\n",
    "        self.last_name = last_name"
   ]
  },
  {
   "cell_type": "markdown",
   "id": "a8863735",
   "metadata": {},
   "source": [
    "### Teacher class without inheritance"
   ]
  },
  {
   "cell_type": "code",
   "execution_count": 42,
   "id": "0de9062e",
   "metadata": {},
   "outputs": [
    {
     "name": "stdout",
     "output_type": "stream",
     "text": [
      "Name: Irmak Bicerbay, Subject: Mathematics\n"
     ]
    }
   ],
   "source": [
    "class Teacher:\n",
    "    def __init__(self, first_name, last_name, subject):\n",
    "        self.first_name = first_name\n",
    "        self.last_name = last_name\n",
    "        self.subject = subject\n",
    "\n",
    "    def display_info(self):\n",
    "        print(f\"Name: {self.first_name} {self.last_name}, Subject: {self.subject}\")\n",
    "\n",
    "teacher1 = Teacher('Irmak', 'Bicerbay', 'Mathematics')\n",
    "teacher1.display_info()"
   ]
  },
  {
   "cell_type": "markdown",
   "id": "5edc5585",
   "metadata": {},
   "source": [
    "### Teacher class with inheritance"
   ]
  },
  {
   "cell_type": "code",
   "execution_count": 43,
   "id": "c11dda1f",
   "metadata": {},
   "outputs": [
    {
     "name": "stdout",
     "output_type": "stream",
     "text": [
      "Name: Irmak Bicerbay, Subject: Mathematics\n"
     ]
    }
   ],
   "source": [
    "class Teacher(Person):\n",
    "    def __init__(self, first_name, last_name, subject):\n",
    "        super().__init__(first_name, last_name)\n",
    "        self.subject = subject\n",
    "\n",
    "    def display_info(self):\n",
    "        print(f\"Name: {self.first_name} {self.last_name}, Subject: {self.subject}\")\n",
    "\n",
    "teacher1 = Teacher('Irmak', 'Bicerbay', 'Mathematics')\n",
    "teacher1.display_info()"
   ]
  }
 ],
 "metadata": {
  "kernelspec": {
   "display_name": "Python 3",
   "language": "python",
   "name": "python3"
  },
  "language_info": {
   "codemirror_mode": {
    "name": "ipython",
    "version": 3
   },
   "file_extension": ".py",
   "mimetype": "text/x-python",
   "name": "python",
   "nbconvert_exporter": "python",
   "pygments_lexer": "ipython3",
   "version": "3.12.1"
  }
 },
 "nbformat": 4,
 "nbformat_minor": 5
}
