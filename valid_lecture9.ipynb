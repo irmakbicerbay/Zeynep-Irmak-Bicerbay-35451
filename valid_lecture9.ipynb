{
 "cells": [
  {
   "cell_type": "markdown",
   "id": "5646bb79",
   "metadata": {},
   "source": [
    "##  Simplest `Fruit` class ever"
   ]
  },
  {
   "cell_type": "code",
   "execution_count": null,
   "id": "26fe5d84",
   "metadata": {},
   "outputs": [],
   "source": [
    "class Fruit:\n",
    "    pass"
   ]
  },
  {
   "cell_type": "markdown",
   "id": "76730f27",
   "metadata": {},
   "source": [
    "- it doesn't have any attributes  \n",
    "- it doesn't have any methods  \n",
    "- there is no constructor"
   ]
  },
  {
   "cell_type": "markdown",
   "id": "8f071251",
   "metadata": {},
   "source": [
    "## What can we do with such class?"
   ]
  },
  {
   "cell_type": "markdown",
   "id": "95cc4d8e",
   "metadata": {},
   "source": [
    "### 1. We can create an object even if this is empty"
   ]
  },
  {
   "cell_type": "code",
   "execution_count": null,
   "id": "1a0b03af",
   "metadata": {},
   "outputs": [],
   "source": [
    "Fruit() "
   ]
  },
  {
   "cell_type": "markdown",
   "id": "60dfc156",
   "metadata": {},
   "source": [
    "### 2. We can create and assign the object to a variable"
   ]
  },
  {
   "cell_type": "code",
   "execution_count": null,
   "id": "306530b5",
   "metadata": {},
   "outputs": [],
   "source": [
    "my_fruit = Fruit()"
   ]
  },
  {
   "cell_type": "markdown",
   "id": "f7477f54",
   "metadata": {},
   "source": [
    "### 3. We can print the object with its address in memory"
   ]
  },
  {
   "cell_type": "code",
   "execution_count": null,
   "id": "9889551e",
   "metadata": {},
   "outputs": [],
   "source": [
    "print(my_fruit)"
   ]
  },
  {
   "cell_type": "markdown",
   "id": "11594429",
   "metadata": {},
   "source": [
    "### 4. We can create multiple objects of that class"
   ]
  },
  {
   "cell_type": "code",
   "execution_count": null,
   "id": "59102da2",
   "metadata": {},
   "outputs": [],
   "source": [
    "apple = Fruit()\n",
    "banana = Fruit()\n",
    "cherry = Fruit()"
   ]
  },
  {
   "cell_type": "markdown",
   "id": "fa99f091",
   "metadata": {},
   "source": [
    "### 5. We can check the addresses on those objects in memory"
   ]
  },
  {
   "cell_type": "code",
   "execution_count": null,
   "id": "f5125429",
   "metadata": {},
   "outputs": [],
   "source": [
    "print(apple)\n",
    "print(banana)\n",
    "print(cherry)"
   ]
  },
  {
   "cell_type": "markdown",
   "id": "37c53334",
   "metadata": {},
   "source": [
    "### 6. We can check the type of the object"
   ]
  },
  {
   "cell_type": "code",
   "execution_count": null,
   "id": "7d948c71",
   "metadata": {},
   "outputs": [],
   "source": [
    "print(type(apple))\n",
    "print(type(banana))\n",
    "print(type(cherry))"
   ]
  }
 ],
 "metadata": {
  "language_info": {
   "name": "python"
  }
 },
 "nbformat": 4,
 "nbformat_minor": 5
}
