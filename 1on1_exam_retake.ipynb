{
 "cells": [
  {
   "cell_type": "code",
   "execution_count": 125,
   "id": "cb429167",
   "metadata": {},
   "outputs": [
    {
     "name": "stdout",
     "output_type": "stream",
     "text": [
      "Irmak\n",
      "19\n",
      "Zeynep\n",
      "1.63\n",
      "<class 'int'>\n",
      "<class 'str'>\n",
      "<class 'float'>\n"
     ]
    }
   ],
   "source": [
    "print(\"Irmak\")\n",
    "\n",
    "x = 19\n",
    "y = \"Zeynep\"\n",
    "z = 1.63\n",
    "print(x)\n",
    "print(y)\n",
    "print(z)\n",
    "print(type(x))\n",
    "print(type(y))\n",
    "print(type(z))\n",
    "\n"
   ]
  },
  {
   "cell_type": "code",
   "execution_count": 126,
   "id": "93f1fc73",
   "metadata": {},
   "outputs": [
    {
     "name": "stdout",
     "output_type": "stream",
     "text": [
      "Turkey\n",
      "Poland\n",
      "Germany\n"
     ]
    }
   ],
   "source": [
    "countries = [\"Turkey\",\"Poland\",\"Germany\"]\n",
    "for c in countries:\n",
    "    print(c)"
   ]
  },
  {
   "cell_type": "code",
   "execution_count": 127,
   "id": "47ea16a7",
   "metadata": {},
   "outputs": [
    {
     "name": "stdout",
     "output_type": "stream",
     "text": [
      "['Turkey', 'Poland', 'Germany', 'America']\n"
     ]
    }
   ],
   "source": [
    "countries.append(\"America\")\n",
    "print(countries)"
   ]
  },
  {
   "cell_type": "code",
   "execution_count": 128,
   "id": "ad2f162c",
   "metadata": {},
   "outputs": [
    {
     "name": "stdout",
     "output_type": "stream",
     "text": [
      "This is my country\n"
     ]
    }
   ],
   "source": [
    "country = \"Turkey\"\n",
    "if country == \"Turkey\":\n",
    "    print(\"This is my country\")"
   ]
  },
  {
   "cell_type": "code",
   "execution_count": 129,
   "id": "fa923e0d",
   "metadata": {},
   "outputs": [
    {
     "name": "stdout",
     "output_type": "stream",
     "text": [
      "Turkey\n",
      "This is my country\n",
      "Poland\n",
      "Germany\n",
      "America\n"
     ]
    }
   ],
   "source": [
    "for c in countries:\n",
    "    print(c)\n",
    "    if c == \"Turkey\":\n",
    "        print(\"This is my country\")"
   ]
  },
  {
   "cell_type": "code",
   "execution_count": 130,
   "id": "33a74669",
   "metadata": {},
   "outputs": [],
   "source": [
    "student = {\n",
    "    \"name\": \"Irmak\",\n",
    "    \"index_number\": 35451,\n",
    "}"
   ]
  },
  {
   "cell_type": "code",
   "execution_count": 131,
   "id": "6c8e7ad1",
   "metadata": {},
   "outputs": [
    {
     "name": "stdout",
     "output_type": "stream",
     "text": [
      "My name is Irmak\n"
     ]
    }
   ],
   "source": [
    "print(\"My name is\",student[\"name\"])"
   ]
  },
  {
   "cell_type": "code",
   "execution_count": 132,
   "id": "fe9e8fb6",
   "metadata": {},
   "outputs": [],
   "source": [
    "class Student:\n",
    "    def __init__(self,name,index_number):\n",
    "        self.name = name\n",
    "        self.index_number = index_number"
   ]
  },
  {
   "cell_type": "code",
   "execution_count": 133,
   "id": "41627112",
   "metadata": {},
   "outputs": [],
   "source": [
    "student1 = Student(\"Irmak\",35451)"
   ]
  },
  {
   "cell_type": "code",
   "execution_count": 134,
   "id": "d3eba646",
   "metadata": {},
   "outputs": [
    {
     "name": "stdout",
     "output_type": "stream",
     "text": [
      "Irmak 35451\n"
     ]
    }
   ],
   "source": [
    "print(student1.name,student1.index_number)"
   ]
  },
  {
   "cell_type": "code",
   "execution_count": 135,
   "id": "ea458d99",
   "metadata": {},
   "outputs": [],
   "source": [
    "class Empty:\n",
    "    pass"
   ]
  },
  {
   "cell_type": "code",
   "execution_count": 136,
   "id": "662d4c98",
   "metadata": {},
   "outputs": [],
   "source": [
    "student = {\n",
    "    \"name\": \"Kayra\",\n",
    "    \"index_number\": 35357,\n",
    "}"
   ]
  },
  {
   "cell_type": "code",
   "execution_count": 137,
   "id": "0bff49fe",
   "metadata": {},
   "outputs": [
    {
     "name": "stdout",
     "output_type": "stream",
     "text": [
      "{'name': 'Kayra', 'index_number': 35357}\n"
     ]
    }
   ],
   "source": [
    "print(student)"
   ]
  }
 ],
 "metadata": {
  "kernelspec": {
   "display_name": "Python 3",
   "language": "python",
   "name": "python3"
  },
  "language_info": {
   "codemirror_mode": {
    "name": "ipython",
    "version": 3
   },
   "file_extension": ".py",
   "mimetype": "text/x-python",
   "name": "python",
   "nbconvert_exporter": "python",
   "pygments_lexer": "ipython3",
   "version": "3.12.1"
  }
 },
 "nbformat": 4,
 "nbformat_minor": 5
}
